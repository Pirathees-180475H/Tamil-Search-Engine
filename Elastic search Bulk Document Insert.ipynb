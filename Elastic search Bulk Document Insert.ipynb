{
 "cells": [
  {
   "cell_type": "code",
   "execution_count": 6,
   "id": "c7680e9d",
   "metadata": {},
   "outputs": [],
   "source": [
    "from elasticsearch import Elasticsearch, helpers\n",
    "from elasticsearch_dsl import Index\n",
    "import json, re\n",
    "import codecs\n",
    "import unicodedata\n",
    "#import queries\n"
   ]
  },
  {
   "cell_type": "code",
   "execution_count": 7,
   "id": "cc44fcf0",
   "metadata": {},
   "outputs": [
    {
     "name": "stdout",
     "output_type": "stream",
     "text": [
      "<class 'dict'>\n"
     ]
    },
    {
     "data": {
      "text/plain": [
       "(239, [])"
      ]
     },
     "execution_count": 7,
     "metadata": {},
     "output_type": "execute_result"
    }
   ],
   "source": [
    "\n",
    "client = Elasticsearch(HOST=\"http://localhost\", PORT=9200)\n",
    "INDEX = 'tamilsongsnew'\n",
    "\n",
    "# Creating index if not manually created\n",
    "#def createIndex():\n",
    "#     index = Index(INDEX, using=client)\n",
    "#     res = index.create()\n",
    "#     print(res)\n",
    "\n",
    "def read_all_songs():\n",
    "    with open('songsv1.json', 'r', encoding='utf-8-sig') as f:\n",
    "       # all_songs = json.loads(\"[\" +\n",
    "        #                  f.read().replace(\"}\\n{\", \"},\\n{\") +\"]\")\n",
    "        all_songs = json.loads(f.read())\n",
    "        res_list = [i for n, i in enumerate(all_songs) if i not in all_songs[n + 1:]]\n",
    "        return res_list\n",
    "\n",
    "songs=read_all_songs()\n",
    "\n",
    "print(type(songs[0]))\n",
    "\n",
    "def genData(song_array):\n",
    "    for song in song_array:\n",
    "        # Fields-capturing\n",
    "        # print(song)\n",
    "        songName = song.get(\"song\", None)\n",
    "        movie = song.get(\"movie\",None)\n",
    "        year = song.get(\"year\", None)\n",
    "        musician = song.get(\"musician\", None)\n",
    "        singers = song.get(\"singers\", None)\n",
    "        lyricist = song.get(\"lyricist\", None)\n",
    "        meaning = song.get(\"Meaning\", None)\n",
    "        sourcedomain = song.get(\"Source Domain\", None)\n",
    "        targetdomain = song.get(\"Target domain\",None)\n",
    "        metopher = song.get('Metopher', None)\n",
    "\n",
    "        yield {\n",
    "            \"_index\": \"tamilsongsnew\",\n",
    "            \"_source\": {\n",
    "                \"song\": songName,\n",
    "                \"movie\":movie,\n",
    "                \"year\":year,\n",
    "                \"musician\":musician,\n",
    "                \"singers\":singers,\n",
    "                \"lyricist\":lyricist,\n",
    "                \"meaning\":meaning,\n",
    "                \"sourcedomain\":sourcedomain,\n",
    "                \"targetdomain\":targetdomain,\n",
    "                \"metopher\":metopher\n",
    "            },\n",
    "        }\n",
    "\n",
    "#createIndex()\n",
    "all_songs = read_all_songs()\n",
    "helpers.bulk(client,genData(all_songs))"
   ]
  },
  {
   "cell_type": "code",
   "execution_count": null,
   "id": "afe5de7d",
   "metadata": {},
   "outputs": [],
   "source": []
  }
 ],
 "metadata": {
  "kernelspec": {
   "display_name": "Python 3 (ipykernel)",
   "language": "python",
   "name": "python3"
  },
  "language_info": {
   "codemirror_mode": {
    "name": "ipython",
    "version": 3
   },
   "file_extension": ".py",
   "mimetype": "text/x-python",
   "name": "python",
   "nbconvert_exporter": "python",
   "pygments_lexer": "ipython3",
   "version": "3.9.7"
  }
 },
 "nbformat": 4,
 "nbformat_minor": 5
}
